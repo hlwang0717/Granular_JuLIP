{
 "cells": [
  {
   "cell_type": "code",
   "execution_count": 1,
   "metadata": {
    "collapsed": true
   },
   "outputs": [],
   "source": [
    "using JuLIP"
   ]
  },
  {
   "cell_type": "code",
   "execution_count": 33,
   "metadata": {},
   "outputs": [
    {
     "data": {
      "text/plain": [
       "Generate_Atoms (generic function with 1 method)"
      ]
     },
     "execution_count": 33,
     "metadata": {},
     "output_type": "execute_result"
    }
   ],
   "source": [
    "function Generate_Atoms(n::Integer, t)\n",
    "        ϵ = 0.1\n",
    "        A= [1.0 ϵ; 0.0 1.0]\n",
    "        N = n*n\n",
    "        if t == 0\n",
    "            X = rand(2, N)*n\n",
    "        elseif t == 1\n",
    "            t = 1:n\n",
    "            o = ones(n)\n",
    "            X = [(t * o')[:]'; (o * t')[:]']\n",
    "        end    \n",
    "        X = [A * X; zeros(N)'] \n",
    "        X = vecs(X)\n",
    "        X = X[:]\n",
    "        at = Atoms(:X, X)\n",
    "        C = [1.0 0.0 0.0; ϵ 1.0 0.0; 0.0 0.0 1.0]*n\n",
    "        set_cell!(at, C)\n",
    "        set_pbc!(at,(true, true, true))\n",
    "    return at\n",
    "end  "
   ]
  },
  {
   "cell_type": "code",
   "execution_count": 34,
   "metadata": {},
   "outputs": [
    {
     "data": {
      "text/plain": [
       "Atoms{Float64,Int64}\n",
       "  X: Array{SArray{Tuple{3},Float64,1,3}}((2500,))\n",
       "  P: Array{SArray{Tuple{3},Float64,1,3}}((2500,))\n",
       "  M: Array{Float64}((2500,)) [1.0, 1.0, 1.0, 1.0, 1.0, 1.0, 1.0, 1.0, 1.0, 1.0  …  1.0, 1.0, 1.0, 1.0, 1.0, 1.0, 1.0, 1.0, 1.0, 1.0]\n",
       "  Z: Array{Int64}((2500,)) [0, 0, 0, 0, 0, 0, 0, 0, 0, 0  …  0, 0, 0, 0, 0, 0, 0, 0, 0, 0]\n",
       "  cell: SArray{Tuple{3,3},Float64,2,9}\n",
       "  pbc: SArray{Tuple{3},Bool,1,3}\n",
       "  calc: JuLIP.NullCalculator JuLIP.NullCalculator()\n",
       "  cons: NullConstraint NullConstraint()\n",
       "  data: Dict{Any,JuLIP.JData}\n"
      ]
     },
     "execution_count": 34,
     "metadata": {},
     "output_type": "execute_result"
    }
   ],
   "source": [
    "at = Generate_Atoms(50, 1)"
   ]
  },
  {
   "cell_type": "code",
   "execution_count": 35,
   "metadata": {},
   "outputs": [
    {
     "data": {
      "text/plain": [
       "2500-element Array{SArray{Tuple{3},Float64,1,3},1}:\n",
       " [1.1, 1.0, 0.0]  \n",
       " [2.1, 1.0, 0.0]  \n",
       " [3.1, 1.0, 0.0]  \n",
       " [4.1, 1.0, 0.0]  \n",
       " [5.1, 1.0, 0.0]  \n",
       " [6.1, 1.0, 0.0]  \n",
       " [7.1, 1.0, 0.0]  \n",
       " [8.1, 1.0, 0.0]  \n",
       " [9.1, 1.0, 0.0]  \n",
       " [10.1, 1.0, 0.0] \n",
       " [11.1, 1.0, 0.0] \n",
       " [12.1, 1.0, 0.0] \n",
       " [13.1, 1.0, 0.0] \n",
       " ⋮                \n",
       " [44.0, 50.0, 0.0]\n",
       " [45.0, 50.0, 0.0]\n",
       " [46.0, 50.0, 0.0]\n",
       " [47.0, 50.0, 0.0]\n",
       " [48.0, 50.0, 0.0]\n",
       " [49.0, 50.0, 0.0]\n",
       " [50.0, 50.0, 0.0]\n",
       " [51.0, 50.0, 0.0]\n",
       " [52.0, 50.0, 0.0]\n",
       " [53.0, 50.0, 0.0]\n",
       " [54.0, 50.0, 0.0]\n",
       " [55.0, 50.0, 0.0]"
      ]
     },
     "execution_count": 35,
     "metadata": {},
     "output_type": "execute_result"
    }
   ],
   "source": [
    " ϵ = 0.1\n",
    "        A= [1.0 ϵ; 0.0 1.0]\n",
    "n = 50\n",
    "t = 1\n",
    "N = n*n\n",
    "        if t == 0\n",
    "            X = rand(2, N)*n\n",
    "        elseif t == 1\n",
    "            t = 1:n\n",
    "            o = ones(n)\n",
    "            X = [(t * o')[:]'; (o * t')[:]']\n",
    "        end    \n",
    "        X = [A * X; zeros(N)'] \n",
    "        X = vecs(X)\n",
    "X = X[:]"
   ]
  },
  {
   "cell_type": "code",
   "execution_count": 27,
   "metadata": {},
   "outputs": [
    {
     "ename": "DimensionMismatch",
     "evalue": "DimensionMismatch(\"matrix A has dimensions (2,2), vector B has length 2500\")",
     "output_type": "error",
     "traceback": [
      "DimensionMismatch(\"matrix A has dimensions (2,2), vector B has length 2500\")",
      "",
      "Stacktrace:",
      " [1] generic_matvecmul!(::Array{StaticArrays.SArray{Tuple{3},Float64,1,3},1}, ::Char, ::Array{Float64,2}, ::Base.ReinterpretArray{StaticArrays.SArray{Tuple{3},Float64,1,3},1,Float64,Array{Float64,1}}) at /Users/osx/buildbot/slave/package_osx64/build/usr/share/julia/stdlib/v0.7/LinearAlgebra/src/matmul.jl:499",
      " [2] mul! at /Users/osx/buildbot/slave/package_osx64/build/usr/share/julia/stdlib/v0.7/LinearAlgebra/src/matmul.jl:75 [inlined]",
      " [3] *(::Array{Float64,2}, ::Base.ReinterpretArray{StaticArrays.SArray{Tuple{3},Float64,1,3},1,Float64,Array{Float64,1}}) at /Users/osx/buildbot/slave/package_osx64/build/usr/share/julia/stdlib/v0.7/LinearAlgebra/src/matmul.jl:46",
      " [4] top-level scope at In[27]:1"
     ]
    }
   ],
   "source": [
    "JVec([A * X; zeros(N)'] )"
   ]
  },
  {
   "cell_type": "code",
   "execution_count": 25,
   "metadata": {},
   "outputs": [
    {
     "ename": "MethodError",
     "evalue": "MethodError: no method matching Atoms(::Symbol, ::Base.ReinterpretArray{StaticArrays.SArray{Tuple{3},Float64,1,3},1,Float64,Array{Float64,1}})\nClosest candidates are:\n  Atoms(::Any, ::Any, !Matched::Any, !Matched::Any, !Matched::Any, !Matched::Any; calc, cons, data) at /Users/hlwang/.julia/packages/JuLIP/zAH1g/src/atoms.jl:122\n  Atoms(::Symbol, !Matched::Array{StaticArrays.SArray{Tuple{3},Float64,1,3},1}) at /Users/hlwang/.julia/packages/JuLIP/zAH1g/src/build.jl:238\n  Atoms(::Symbol, !Matched::Array{Float64,2}) at /Users/hlwang/.julia/packages/JuLIP/zAH1g/src/build.jl:243",
     "output_type": "error",
     "traceback": [
      "MethodError: no method matching Atoms(::Symbol, ::Base.ReinterpretArray{StaticArrays.SArray{Tuple{3},Float64,1,3},1,Float64,Array{Float64,1}})\nClosest candidates are:\n  Atoms(::Any, ::Any, !Matched::Any, !Matched::Any, !Matched::Any, !Matched::Any; calc, cons, data) at /Users/hlwang/.julia/packages/JuLIP/zAH1g/src/atoms.jl:122\n  Atoms(::Symbol, !Matched::Array{StaticArrays.SArray{Tuple{3},Float64,1,3},1}) at /Users/hlwang/.julia/packages/JuLIP/zAH1g/src/build.jl:238\n  Atoms(::Symbol, !Matched::Array{Float64,2}) at /Users/hlwang/.julia/packages/JuLIP/zAH1g/src/build.jl:243",
      "",
      "Stacktrace:",
      " [1] top-level scope at In[25]:1"
     ]
    }
   ],
   "source": [
    "Atoms(:X, X)"
   ]
  },
  {
   "cell_type": "code",
   "execution_count": 36,
   "metadata": {},
   "outputs": [
    {
     "data": {
      "text/plain": [
       "Array{SArray{Tuple{3},Float64,1,3},1}"
      ]
     },
     "execution_count": 36,
     "metadata": {},
     "output_type": "execute_result"
    }
   ],
   "source": [
    "typeof(X)"
   ]
  },
  {
   "cell_type": "code",
   "execution_count": 29,
   "metadata": {
    "collapsed": true
   },
   "outputs": [],
   "source": [
    "using StaticArrays"
   ]
  },
  {
   "cell_type": "code",
   "execution_count": null,
   "metadata": {
    "collapsed": true
   },
   "outputs": [],
   "source": []
  }
 ],
 "metadata": {
  "kernelspec": {
   "display_name": "Julia 0.7.0",
   "language": "julia",
   "name": "julia-0.7"
  },
  "language_info": {
   "file_extension": ".jl",
   "mimetype": "application/julia",
   "name": "julia",
   "version": "0.7.0"
  }
 },
 "nbformat": 4,
 "nbformat_minor": 2
}
